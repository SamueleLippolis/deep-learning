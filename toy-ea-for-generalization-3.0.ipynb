{
 "cells": [
  {
   "cell_type": "markdown",
   "metadata": {},
   "source": [
    "# Toy EA for generalization\n",
    "An EA for the hyperparameter tuning of a NN. \n",
    "The goal is to make it general w.r.t. the model and the set of hyperparamter chosen. \n",
    "\n",
    "NN Parameters to be optimized:\n",
    "- learning rate \n",
    "- number of layers\n",
    "- number of units (one different value for each layer)\n",
    "- dropout "
   ]
  },
  {
   "cell_type": "code",
   "execution_count": 61,
   "metadata": {},
   "outputs": [],
   "source": [
    "# Library imports\n",
    "import random\n",
    "import numpy as np\n",
    "import torch\n",
    "import torch.nn as nn\n",
    "import torch.optim as optim\n",
    "from torchvision import datasets, transforms\n",
    "from torch.utils.data import DataLoader\n",
    "import matplotlib.pyplot as plt\n",
    "from torch.utils.data import Subset\n",
    "from tqdm.notebook import tqdm"
   ]
  },
  {
   "cell_type": "code",
   "execution_count": 62,
   "metadata": {},
   "outputs": [],
   "source": [
    "# Configura il dispositivo (GPU o CPU)\n",
    "device = torch.device(\"cuda\" if torch.cuda.is_available() else \"cpu\")"
   ]
  },
  {
   "cell_type": "code",
   "execution_count": 63,
   "metadata": {},
   "outputs": [],
   "source": [
    "# Caricamento e pre-elaborazione del dataset MNIST\n",
    "\n",
    "all_data = False\n",
    "\n",
    "if all_data:\n",
    "    # Compose permette di concatenare più trasformazioni\n",
    "    # ToTensor() converte l'immagine in un tensore (utile per operazioni matematiche) -> porta i pixel da [0, 255] a [0, 1]\n",
    "    # Normalize() normalizza i pixel dell'immagine -> porta i pixel da [0, 1] a [-1, 1] (normalizza i dati usando media 0.5 e deviazione standard 0.5)\n",
    "    transform = transforms.Compose([transforms.ToTensor(), transforms.Normalize((0.5,), (0.5,))])\n",
    "    # Caricamento del dataset MNIST\n",
    "    # root = './data' indica la cartella in cui scaricare il dataset\n",
    "    # train = True estrae il dataset di training (il MNIST ha entrambi i dataset)\n",
    "    # transform = transform applica le trasformazioni definite sopra\n",
    "    # download = True scarica il dataset se non è già presente\n",
    "    train_dataset = datasets.MNIST(root='./data', train=True, transform=transform, download=True)\n",
    "    test_dataset = datasets.MNIST(root='./data', train=False, transform=transform, download=True)\n",
    "    # Caricamento dei dati nel DataLoader (serve per caricare i dati in batch)\n",
    "    # batch_size = 32 indica quante immagini caricare in ogni batch\n",
    "    # shuffle = True indica che i dati vengono caricati in ordine casuale\n",
    "    train_loader = DataLoader(train_dataset, batch_size=32, shuffle=True)\n",
    "    test_loader = DataLoader(test_dataset, batch_size=32, shuffle=False)\n",
    "else:\n",
    "    # Caricamento e pre-elaborazione del dataset MNIST\n",
    "    transform = transforms.Compose([transforms.ToTensor(), transforms.Normalize((0.5,), (0.5,))])\n",
    "\n",
    "    # Caricamento del dataset completo\n",
    "    full_train_dataset = datasets.MNIST(root='./data', train=True, transform=transform, download=True)\n",
    "    full_test_dataset = datasets.MNIST(root='./data', train=False, transform=transform, download=True)\n",
    "\n",
    "    # Percentuale di dati da utilizzare (20% per il training, 10% per il test)\n",
    "    train_subset_size = int(0.2 * len(full_train_dataset))\n",
    "    test_subset_size = int(0.1 * len(full_test_dataset))\n",
    "\n",
    "    # Genera indici casuali per il sottoinsieme\n",
    "    # len(full_train_dataset) è l'intervallo di numeri da cui scegliere (con lo 0 incluso, len escluso)\n",
    "    # train_subset_size è il numero di elementi da scegliere\n",
    "    # replace=False indica che NON si possono scegliere due volte lo stesso elemento\n",
    "    train_indices = np.random.choice(len(full_train_dataset), train_subset_size, replace=False)\n",
    "    test_indices = np.random.choice(len(full_test_dataset), test_subset_size, replace=False)\n",
    "\n",
    "    # Crea i sottoinsiemi\n",
    "    # Subset permette di creare un sottoinsieme di un dataset dato un insieme di indici\n",
    "    train_subset = Subset(full_train_dataset, train_indices)\n",
    "    test_subset = Subset(full_test_dataset, test_indices)\n",
    "\n",
    "    # Carica i sottoinsiemi nel DataLoader\n",
    "    train_loader = DataLoader(train_subset, batch_size=32, shuffle=True)\n",
    "    test_loader = DataLoader(test_subset, batch_size=32, shuffle=False)\n"
   ]
  },
  {
   "cell_type": "code",
   "execution_count": 64,
   "metadata": {},
   "outputs": [],
   "source": [
    "class MNISTModel(nn.Module):\n",
    "    def __init__(self, learning_rate, num_units_array, dropout_rate):\n",
    "        super(MNISTModel, self).__init__()\n",
    "        self.learning_rate = learning_rate\n",
    "        self.num_units_array = num_units_array\n",
    "        self.dropout_rate = dropout_rate\n",
    "        self.num_layers = len(num_units_array)\n",
    "\n",
    "        # Costruzione della rete neurale\n",
    "        layers = [nn.Flatten()]\n",
    "        layers.append(nn.Linear(28 * 28, num_units_array[0]))\n",
    "        layers.append(nn.ReLU())\n",
    "\n",
    "        if self.num_layers > 1:\n",
    "            for i in range(self.num_layers - 1):\n",
    "                layers.append(nn.Linear(num_units_array[i], num_units_array[i+1]))\n",
    "                layers.append(nn.ReLU())\n",
    "                layers.append(nn.Dropout(self.dropout_rate))\n",
    "        \n",
    "        layers.append(nn.Linear(num_units_array[-1], 10))  # Output finale\n",
    "        self.model = nn.Sequential(*layers)\n",
    "        \n",
    "        # Ottimizzatore\n",
    "        self.optimizer = optim.Adam(self.parameters(), lr=self.learning_rate)\n",
    "        self.criterion = nn.CrossEntropyLoss()\n",
    "\n",
    "    def forward(self, x):\n",
    "        return self.model(x)\n",
    "\n",
    "    def train_model(self):\n",
    "        self.train()  # Modalità training\n",
    "        for data, target in train_loader:\n",
    "            data, target = data.to(device), target.to(device)\n",
    "            self.optimizer.zero_grad()\n",
    "            output = self(data)\n",
    "            loss = self.criterion(output, target)\n",
    "            loss.backward()\n",
    "            self.optimizer.step()\n",
    "\n",
    "    def evaluate(self):\n",
    "        self.eval()  # Modalità evaluation\n",
    "        correct = 0\n",
    "        with torch.no_grad():\n",
    "            for data, target in test_loader:\n",
    "                data, target = data.to(device), target.to(device)\n",
    "                output = self(data)\n",
    "                pred = output.argmax(dim=1, keepdim=True)\n",
    "                correct += pred.eq(target.view_as(pred)).sum().item()\n",
    "        accuracy = correct / len(test_loader.dataset)\n",
    "        return accuracy\n"
   ]
  },
  {
   "cell_type": "code",
   "execution_count": 65,
   "metadata": {},
   "outputs": [],
   "source": [
    "def fitness_assessment(solution, model_class, num_epochs):\n",
    "    \"\"\"\n",
    "    Valuta la fitness di una soluzione, istanziando il modello con i parametri dati.\n",
    "    \n",
    "    Args:\n",
    "    - solution (dict): Dizionario con i parametri della rete.\n",
    "    - model_class (class): Classe del modello della rete neurale (deve avere un metodo `evaluate`).\n",
    "\n",
    "    Returns:\n",
    "    - float: Accuratezza della rete sul set di test, utilizzata come fitness.\n",
    "    \"\"\"\n",
    "    # Istanzia il modello con la configurazione specificata dalla soluzione\n",
    "    # **solution converte il dizionario in argomenti chiave-valore, in modo da passare i parametri come argomenti\n",
    "    model = model_class(**solution).to(device)  # Assicurati di spostare il modello sul dispositivo corretto (CPU o GPU)\n",
    "    \n",
    "    # Fase di training del modello per alcune epoche\n",
    "    for _ in range(num_epochs):  # Training per 3 epoche, può essere aumentato se il task richiede più iterazioni\n",
    "        #print(\"Start training for fitness assessment\")\n",
    "        model.train_model()\n",
    "    \n",
    "    # Calcola la fitness come accuratezza sul set di test\n",
    "    accuracy = model.evaluate()  # Restituisce l'accuratezza della rete neurale\n",
    "    return accuracy\n",
    "\n",
    "\n",
    "def create_genotype(params_config):\n",
    "    genotype = {}\n",
    "    for param, config in params_config.items():\n",
    "        if param == \"num_units_array\":\n",
    "            # Genera `num_units_array` basandoti sul numero di layer generato\n",
    "            num_layers = random.choice(range(config[\"num_layers_range\"][0], config[\"num_layers_range\"][1] + 1))\n",
    "            genotype[param] = [random.randint(*config[\"range\"]) for _ in range(num_layers)]\n",
    "        else:\n",
    "            genotype[param] = random.uniform(*config[\"range\"])\n",
    "    return genotype\n",
    "\n",
    "\n",
    "\n",
    "\n",
    "\n",
    "# Funzione per convertire il genotipo in una soluzione\n",
    "def genotype_to_solution(genotype, params_config):\n",
    "    solution = {}\n",
    "    for param, value in genotype.items():\n",
    "        if param == \"num_units_array\":\n",
    "            solution[param] = [int(round(val)) for val in value]\n",
    "            continue\n",
    "        if params_config[param].get(\"to_int\", False):  # Converte a intero se specificato\n",
    "            solution[param] = int(round(value))\n",
    "        else:\n",
    "            solution[param] = value\n",
    "    return solution\n",
    "\n",
    "# Funzione di crossover generale che usa l'operatore specificato per ciascun parametro\n",
    "def crossover(parent1, parent2, params_config):\n",
    "    child = {}\n",
    "    for param in parent1.keys():\n",
    "        if param == \"num_units_array\":\n",
    "            child[param] = [uniform_crossover(val1, val2) for val1, val2 in zip(parent1[param], parent2[param])]\n",
    "            continue # Salta il resto della funzione e passa al prossimo ciclo\n",
    "        crossover_func = params_config[param].get(\"crossover\", uniform_crossover)  # Operatore di default\n",
    "        child[param] = crossover_func(parent1[param], parent2[param])\n",
    "    return child\n",
    "\n",
    "def mutate(genotype, params_config, mutation_rate=0.1):\n",
    "    for param, value in genotype.items():\n",
    "        if random.random() < mutation_rate:\n",
    "            if param == \"num_units_array\":\n",
    "                # Aggiorna solo i valori di `num_units` esistenti\n",
    "                genotype[param] = [random.randint(*params_config[\"num_units_array\"][\"range\"]) for _ in range(round(len(genotype[\"num_units_array\"])))]\n",
    "            else:\n",
    "                mutation_func = params_config[param].get(\"mutation\", random_mutation)\n",
    "                genotype[param] = mutation_func(value, params_config[param][\"range\"])\n",
    "    return genotype\n",
    "\n",
    "\n",
    "# Operatori di crossover e mutazione di esempio\n",
    "def uniform_crossover(val1, val2):\n",
    "    return val1 if random.random() < 0.5 else val2\n",
    "\n",
    "def random_mutation(value, value_range):\n",
    "    return random.uniform(*value_range)\n",
    "\n",
    "\n",
    "# Funzione per eseguire l'algoritmo genetico\n",
    "def evolutionary_algorithm(model_class, params_config, population_size, generations, num_epochs):\n",
    "    # Inizializza la popolazione (genotipi)\n",
    "    population = [create_genotype(params_config) for _ in range(population_size)]\n",
    "    #print(\"Popolazione iniziale\")\n",
    "    #for genotype in population:\n",
    "    #    print(genotype)\n",
    "\n",
    "    for generation in tqdm(range(generations), desc=\"Generazioni\"):\n",
    "        print(f\"Generazione {generation + 1}\")\n",
    "\n",
    "        # Valutazione fitness con barra di avanzamento\n",
    "        scores = []\n",
    "        for genotype in tqdm(population, desc=\"Valutazione Fitness\"):\n",
    "           solution = genotype_to_solution(genotype, params_config)\n",
    "           fitness = fitness_assessment(solution, model_class, num_epochs)\n",
    "           scores.append((genotype, fitness))\n",
    "\n",
    "        scores.sort(key=lambda x: x[1], reverse=True)\n",
    "\n",
    "        # Selezione dei migliori genotipi\n",
    "        top_individuals = scores[:population_size // 2]\n",
    "\n",
    "        # Crossover e Mutazione per generare nuovi individui\n",
    "        new_population = []\n",
    "        for i in range(population_size // 2):\n",
    "            parent1, parent2 = random.sample(top_individuals, 2)\n",
    "            child_genotype = crossover(parent1[0], parent2[0], params_config)\n",
    "            mutated_child = mutate(child_genotype, params_config)\n",
    "            new_population.append(mutated_child)\n",
    "\n",
    "        # Aggiorna la popolazione con i migliori e i nuovi individui\n",
    "        population = [ind[0] for ind in top_individuals] + new_population\n",
    "        #print(\"Poplazione:\")\n",
    "        #for genotype in population:\n",
    "        #    print(genotype)\n",
    "\n",
    "    # Restituisce l'individuo migliore\n",
    "    best_genotype = max(population, key=lambda ind: fitness_assessment(genotype_to_solution(ind, params_config), model_class, num_epochs))\n",
    "    best_solution = genotype_to_solution(best_genotype, params_config)\n",
    "    return best_solution\n",
    "\n"
   ]
  },
  {
   "cell_type": "code",
   "execution_count": 66,
   "metadata": {},
   "outputs": [
    {
     "data": {
      "application/vnd.jupyter.widget-view+json": {
       "model_id": "9fe39f01be714ebe936daf03b9add558",
       "version_major": 2,
       "version_minor": 0
      },
      "text/plain": [
       "Generazioni:   0%|          | 0/5 [00:00<?, ?it/s]"
      ]
     },
     "metadata": {},
     "output_type": "display_data"
    },
    {
     "name": "stdout",
     "output_type": "stream",
     "text": [
      "Generazione 1\n"
     ]
    },
    {
     "data": {
      "application/vnd.jupyter.widget-view+json": {
       "model_id": "d9daa8f77230402298f1d548be65e399",
       "version_major": 2,
       "version_minor": 0
      },
      "text/plain": [
       "Valutazione Fitness:   0%|          | 0/10 [00:00<?, ?it/s]"
      ]
     },
     "metadata": {},
     "output_type": "display_data"
    },
    {
     "name": "stdout",
     "output_type": "stream",
     "text": [
      "Generazione 2\n"
     ]
    },
    {
     "data": {
      "application/vnd.jupyter.widget-view+json": {
       "model_id": "70dd100486fa4fa5b9b1f836c36234ef",
       "version_major": 2,
       "version_minor": 0
      },
      "text/plain": [
       "Valutazione Fitness:   0%|          | 0/10 [00:00<?, ?it/s]"
      ]
     },
     "metadata": {},
     "output_type": "display_data"
    },
    {
     "name": "stdout",
     "output_type": "stream",
     "text": [
      "Generazione 3\n"
     ]
    },
    {
     "data": {
      "application/vnd.jupyter.widget-view+json": {
       "model_id": "8fcb5f7f85e8441397feaed6b22d733d",
       "version_major": 2,
       "version_minor": 0
      },
      "text/plain": [
       "Valutazione Fitness:   0%|          | 0/10 [00:00<?, ?it/s]"
      ]
     },
     "metadata": {},
     "output_type": "display_data"
    },
    {
     "name": "stdout",
     "output_type": "stream",
     "text": [
      "Generazione 4\n"
     ]
    },
    {
     "data": {
      "application/vnd.jupyter.widget-view+json": {
       "model_id": "4ff7100ebca746b1b73dc08eb5be3655",
       "version_major": 2,
       "version_minor": 0
      },
      "text/plain": [
       "Valutazione Fitness:   0%|          | 0/10 [00:00<?, ?it/s]"
      ]
     },
     "metadata": {},
     "output_type": "display_data"
    },
    {
     "name": "stdout",
     "output_type": "stream",
     "text": [
      "Generazione 5\n"
     ]
    },
    {
     "data": {
      "application/vnd.jupyter.widget-view+json": {
       "model_id": "ae410d48f42148018a61df0d163ea112",
       "version_major": 2,
       "version_minor": 0
      },
      "text/plain": [
       "Valutazione Fitness:   0%|          | 0/10 [00:00<?, ?it/s]"
      ]
     },
     "metadata": {},
     "output_type": "display_data"
    },
    {
     "name": "stdout",
     "output_type": "stream",
     "text": [
      "Migliori parametri trovati: {'learning_rate': 0.001839069243251493, 'num_units_array': [110], 'dropout_rate': 0.1012229423086925}\n"
     ]
    }
   ],
   "source": [
    "# Esempio di configurazione parametri\n",
    "params_config = {\n",
    "    'learning_rate': {\n",
    "        \"range\": (0.0001, 0.1),\n",
    "        \"crossover\": uniform_crossover,\n",
    "        \"mutation\": random_mutation,\n",
    "        \"array\": False,\n",
    "        \"to_int\": False\n",
    "    },\n",
    "    'num_units_array': {\n",
    "        \"range\": (36,128),\n",
    "        \"crossover\": uniform_crossover,\n",
    "        \"mutation\": random_mutation,\n",
    "        \"array\": True,\n",
    "        \"to_int\": True,  # Converte il valore a intero per la soluzione\n",
    "        \"num_layers_range\": (1, 4)\n",
    "    },\n",
    "    'dropout_rate': {\n",
    "        \"range\": (0.0, 0.5),\n",
    "        \"crossover\": uniform_crossover,\n",
    "        \"mutation\": random_mutation,\n",
    "        \"array\": False,\n",
    "        \"to_int\": False\n",
    "    }\n",
    "}\n",
    "\n",
    "best_params = evolutionary_algorithm(MNISTModel, params_config, population_size=10, generations=5, num_epochs=5)\n",
    "print(\"Migliori parametri trovati:\", best_params)"
   ]
  },
  {
   "cell_type": "code",
   "execution_count": 79,
   "metadata": {},
   "outputs": [
    {
     "name": "stdout",
     "output_type": "stream",
     "text": [
      "baseline_params {'learning_rate': 0.01, 'num_units_array': [128], 'dropout_rate': 0.2}\n",
      "best_params {'learning_rate': 0.001839069243251493, 'num_units_array': [110], 'dropout_rate': 0.1012229423086925}\n",
      "\n",
      "Testing baseline model with standard parameters...\n",
      "Epoch 1/5, Train Loss: 0.6319, Validation Loss: 0.3310\n",
      "Epoch 2/5, Train Loss: 0.3851, Validation Loss: 0.3573\n",
      "Epoch 3/5, Train Loss: 0.3472, Validation Loss: 0.3157\n",
      "Epoch 4/5, Train Loss: 0.3381, Validation Loss: 0.2897\n",
      "Epoch 5/5, Train Loss: 0.3353, Validation Loss: 0.3432\n",
      "Baseline accuracy: 0.9150\n"
     ]
    }
   ],
   "source": [
    "# Funzione aggiornata per addestrare il modello e tracciare train e validation loss\n",
    "def train_and_evaluate_model(params, model_class, epochs):\n",
    "    model = model_class(**params).to(device)\n",
    "    \n",
    "    train_losses = []\n",
    "    validation_losses = []\n",
    "\n",
    "    # Loop di addestramento per ciascuna epoca\n",
    "    for epoch in range(epochs):\n",
    "        model.train()  # Modalità di training\n",
    "        epoch_train_loss = 0\n",
    "\n",
    "        for data, target in train_loader:\n",
    "            data, target = data.to(device), target.to(device)\n",
    "            model.optimizer.zero_grad()\n",
    "            output = model(data)\n",
    "            loss = model.criterion(output, target)\n",
    "            loss.backward()\n",
    "            model.optimizer.step()\n",
    "            epoch_train_loss += loss.item()\n",
    "\n",
    "        # Calcola la media della train loss per l'epoca corrente\n",
    "        epoch_train_loss /= len(train_loader)\n",
    "        train_losses.append(epoch_train_loss)\n",
    "\n",
    "        # Calcolo della validation loss\n",
    "        model.eval()  # Modalità di valutazione\n",
    "        epoch_val_loss = 0\n",
    "        with torch.no_grad():\n",
    "            for data, target in test_loader:\n",
    "                data, target = data.to(device), target.to(device)\n",
    "                output = model(data)\n",
    "                loss = model.criterion(output, target)\n",
    "                epoch_val_loss += loss.item()\n",
    "\n",
    "        # Calcola la media della validation loss per l'epoca corrente\n",
    "        epoch_val_loss /= len(test_loader)\n",
    "        validation_losses.append(epoch_val_loss)\n",
    "\n",
    "        print(f\"Epoch {epoch + 1}/{epochs}, Train Loss: {epoch_train_loss:.4f}, Validation Loss: {epoch_val_loss:.4f}\")\n",
    "\n",
    "    # Calcolo dell'accuratezza finale sul test set\n",
    "    final_accuracy = model.evaluate()\n",
    "\n",
    "    return final_accuracy, train_losses, validation_losses\n",
    "\n",
    "\n",
    "# Parametri standard di base (baseline)\n",
    "baseline_params = {\n",
    "    'learning_rate': 0.001,\n",
    "    'num_units_array': [128],\n",
    "    'dropout_rate': 0.2\n",
    "}\n",
    "\n",
    "num_epochs_test = 5\n",
    "\n",
    "print(\"baseline_params\", baseline_params)\n",
    "print(\"best_params\", best_params)\n",
    "\n",
    "# 1. Test del modello con i parametri standard (baseline)\n",
    "print(\"\\nTesting baseline model with standard parameters...\")\n",
    "baseline_accuracy, baseline_train_losses, baseline_val_losses = train_and_evaluate_model(baseline_params, MNISTModel, epochs=num_epochs_test)\n",
    "print(f\"Baseline accuracy: {baseline_accuracy:.4f}\")\n",
    "\n",
    "# 2. Test del modello con i parametri ottimizzati dall'algoritmo evolutivo\n",
    "print(\"\\nTesting model with optimized parameters...\")\n",
    "optimized_accuracy, optimized_train_losses, optimized_val_losses = train_and_evaluate_model(best_params, MNISTModel, epochs=num_epochs_test)\n",
    "print(f\"Optimized accuracy: {optimized_accuracy:.4f}\")\n",
    "\n",
    "\n"
   ]
  },
  {
   "cell_type": "code",
   "execution_count": 70,
   "metadata": {},
   "outputs": [
    {
     "data": {
      "image/png": "[encoded data removed]",
      "text/plain": [
       "<Figure size 1200x500 with 2 Axes>"
      ]
     },
     "metadata": {},
     "output_type": "display_data"
    }
   ],
   "source": [
    "# Visualizzazione dei risultati con assi vincolati\n",
    "epochs = range(1, len(baseline_train_losses) + 1)\n",
    "\n",
    "# Trova i limiti comuni per l'asse y (perdita)\n",
    "all_losses = baseline_train_losses + baseline_val_losses + optimized_train_losses + optimized_val_losses\n",
    "y_min, y_max = min(all_losses), max(all_losses)\n",
    "\n",
    "# Grafico della perdita per i parametri baseline\n",
    "plt.figure(figsize=(12, 5))\n",
    "plt.subplot(1, 2, 1)\n",
    "plt.plot(epochs, baseline_train_losses, label='Train Loss - Baseline')\n",
    "plt.plot(epochs, baseline_val_losses, label='Validation Loss - Baseline')\n",
    "plt.xlabel('Epochs')\n",
    "plt.ylabel('Loss')\n",
    "plt.title('Baseline Model Loss')\n",
    "plt.legend()\n",
    "plt.ylim(y_min, y_max)  # Imposta i limiti y comuni\n",
    "\n",
    "# Grafico della perdita per i parametri ottimizzati\n",
    "plt.subplot(1, 2, 2)\n",
    "plt.plot(epochs, optimized_train_losses, label='Train Loss - Optimized')\n",
    "plt.plot(epochs, optimized_val_losses, label='Validation Loss - Optimized')\n",
    "plt.xlabel('Epochs')\n",
    "plt.ylabel('Loss')\n",
    "plt.title('Optimized Model Loss')\n",
    "plt.legend()\n",
    "plt.ylim(y_min, y_max)  # Imposta i limiti y comuni\n",
    "\n",
    "plt.tight_layout()\n",
    "plt.show()\n"
   ]
  }
 ],
 "metadata": {
  "kernelspec": {
   "display_name": "Python 3",
   "language": "python",
   "name": "python3"
  },
  "language_info": {
   "codemirror_mode": {
    "name": "ipython",
    "version": 3
   },
   "file_extension": ".py",
   "mimetype": "text/x-python",
   "name": "python",
   "nbconvert_exporter": "python",
   "pygments_lexer": "ipython3",
   "version": "3.10.12"
  }
 },
 "nbformat": 4,
 "nbformat_minor": 2
}
